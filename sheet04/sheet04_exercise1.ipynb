{
 "cells": [
  {
   "cell_type": "code",
   "execution_count": null,
   "metadata": {},
   "outputs": [],
   "source": [
    "import numpy as np\n",
    "import matplotlib.pyplot as plt\n"
   ]
  },
  {
   "cell_type": "code",
   "execution_count": null,
   "metadata": {},
   "outputs": [],
   "source": [
    "grid_size = 5\n",
    "initial_state = np.array([0,0])\n",
    "loc_a = np.array([0,1])\n",
    "loc_a_ = np.array([4,1])\n",
    "rew_a = 10\n",
    "loc_b = np.array([0,3])\n",
    "loc_b_ = np.array([2,3])\n",
    "rew_b = 5"
   ]
  },
  {
   "cell_type": "code",
   "execution_count": null,
   "metadata": {},
   "outputs": [],
   "source": [
    "def next_state(state, action):\n",
    "    if state[0] == loc_a[0] and state[1] == loc_a[1]:\n",
    "                    return loc_a_, rew_a\n",
    "    elif state[0] == loc_b[0] and state[1] == loc_b[1]:\n",
    "                    return loc_b_, rew_b\n",
    "    else:\n",
    "        if action == 'N':\n",
    "            if state[0] == 0:\n",
    "                return state, -1\n",
    "            else:\n",
    "                state = state + np.array([-1,0])\n",
    "                return state, 0\n",
    "        if action == 'S':\n",
    "            if state[0] == grid_size - 1:\n",
    "                return state, -1\n",
    "            else:\n",
    "                state = state + np.array([1,0])\n",
    "                return state, 0\n",
    "        if action == 'W':\n",
    "            if state[1] == 0:\n",
    "                return state, -1\n",
    "            else:\n",
    "                state = state + np.array([0,-1])\n",
    "                return state, 0\n",
    "        if action == 'E':\n",
    "            if state[1] == grid_size -1 :\n",
    "                return state, -1\n",
    "            else:\n",
    "                state = state + np.array([0,1])\n",
    "                return state, 0"
   ]
  },
  {
   "cell_type": "code",
   "execution_count": null,
   "metadata": {},
   "outputs": [],
   "source": [
    "def compute_state_val_function(max_iterations, eps, policy, state_value=None):\n",
    "    if state_value is None:\n",
    "        val_function = np.zeros((max_iterations+1, grid_size, grid_size))\n",
    "    else: \n",
    "        val_function_help = state_value[-1,:,:]\n",
    "        val_function = np.zeros((max_iterations+1, grid_size, grid_size))\n",
    "        val_function[0,:,:] = val_function_help\n",
    "\n",
    "    change = np.zeros(max_iterations+1)\n",
    "    actions = ['N','S','W','E']\n",
    "    iteration = 0\n",
    "    gamma = 0.9\n",
    "    change[0] = 10\n",
    "    while iteration < max_iterations:\n",
    "        for i in range(grid_size):\n",
    "            for j in range(grid_size):\n",
    "                value = 0 \n",
    "                for action_idx, action in enumerate(actions):\n",
    "                    astate, arew = next_state(np.array([i,j]), action)\n",
    "                    value += policy[i,j,action_idx] * (arew + gamma * val_function[iteration,astate[0],astate[1]])\n",
    "                val_function[iteration+1,i,j] = value\n",
    "        change[iteration] = abs(np.sum(val_function[iteration]-val_function[iteration+1]))\n",
    "        if change[iteration] < eps: \n",
    "            break\n",
    "        iteration += 1\n",
    "    return val_function[:iteration+1,:,:], change[:iteration+1]"
   ]
  },
  {
   "cell_type": "code",
   "execution_count": null,
   "metadata": {},
   "outputs": [],
   "source": [
    "def compute_action_val_function(max_iterations, eps, policy):\n",
    "    \n",
    "    actions = ['N','S','W','E']\n",
    "    val_function = np.zeros((max_iterations, grid_size,grid_size, len(actions)))\n",
    "    change = np.zeros(max_iterations)\n",
    "    iteration = 0\n",
    "    gamma = 0.9\n",
    "    change[0] = 10\n",
    "    while iteration <= max_iterations:\n",
    "        for i in range(grid_size):\n",
    "            for j in range(grid_size):\n",
    "                for action_index, action in enumerate(actions):\n",
    "                    astate, arew = next_state(np.array([i,j]),action)\n",
    "                    value = arew + gamma * policy[i,j,action_index] * np.sum(val_function[iteration,astate[0],astate[1],:])\n",
    "                    val_function[iteration+1,i,j,action_index] = value\n",
    "        change[iteration] = abs(np.sum(val_function[iteration]-val_function[iteration+1]))\n",
    "        if change[iteration] < eps: \n",
    "            break\n",
    "        iteration += 1\n",
    "    return val_function[:iteration,:,:,:], change[:iteration]"
   ]
  }
 ],
 "metadata": {
  "language_info": {
   "name": "python"
  }
 },
 "nbformat": 4,
 "nbformat_minor": 2
}
